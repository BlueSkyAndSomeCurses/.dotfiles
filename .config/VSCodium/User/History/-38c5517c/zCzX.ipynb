{
  "cells": [
    {
      "cell_type": "markdown",
      "metadata": {
        "id": "Tmv4T1RTEiYH"
      },
      "source": []
    },
    {
      "cell_type": "code",
      "execution_count": null,
      "metadata": {
        "colab": {
          "base_uri": "https://localhost:8080/"
        },
        "id": "4FmtwSpKK2ec",
        "outputId": "700f895f-65dc-4e3b-e7cc-3b5188a8d781"
      },
      "outputs": [
        {
          "name": "stdout",
          "output_type": "stream",
          "text": [
            "Hello world!!!\n"
          ]
        }
      ],
      "source": [
        "print(\"Hello world!!!\")"
      ]
    },
    {
      "cell_type": "markdown",
      "metadata": {
        "id": "k9c6WYUYLcIT"
      },
      "source": [
        "Натискаючи на кнопку **виконати** ми запускаємо код.\n",
        "\n",
        "Що таке **print**?🧐\n",
        "\n",
        "Print - це команда в Python яка дає змогу відобразити інформацію.\n",
        "А також - це наша перша Python програма 🥳 🥳 🥳"
      ]
    },
    {
      "cell_type": "markdown",
      "metadata": {
        "id": "VeWVK_80M5-2"
      },
      "source": [
        "**Підсумуємо**: Google Colab це місце, де ми можемо запускати код в браузері. Він складається з комірок, які є двох типів **код** та **текст**.\n",
        "В комірці типу **код** ми можемо писати код мовою програмування **Python** та запускати його. А в комірці типу **текст** - просто текст."
      ]
    },
    {
      "cell_type": "markdown",
      "metadata": {
        "id": "cQe--SfgBNoQ"
      },
      "source": [
        "## Типи даних"
      ]
    },
    {
      "cell_type": "markdown",
      "metadata": {
        "id": "9tgZqGdHQi-I"
      },
      "source": [
        "\n",
        "\n",
        "Pyhton має чотири ключових типи даних:\n",
        "\n",
        "1) int - число (н-д 1, 10 або 1801)\n",
        "\n",
        "2) float - число з плаваючою комою (н-д 1.0, 5.819 або 1049.19)\n",
        "\n",
        "3) string - рядок (н-д 'Bob', 'Coffe', 'Hello World!')\n",
        "\n",
        "4) bool - значення True або False\n"
      ]
    },
    {
      "cell_type": "markdown",
      "metadata": {
        "id": "5HZ2wNbx2Smd"
      },
      "source": [
        "## Як створити змінну?"
      ]
    },
    {
      "cell_type": "markdown",
      "metadata": {
        "id": "FfhfWHx8RrB-"
      },
      "source": [
        "Створимо наші перші змінні, але спочатку розберемо певні правила та алгоритм їх створення.\n",
        "\n",
        "`name_ver = data`</br>\n",
        "\n",
        "**name_ver** - назва змінної\n",
        "\n",
        "**=** - оператор присвоєння\n",
        "\n",
        "**data** - самі данні (типи яких наведенні вище)\n",
        "\n",
        "\n",
        "Примітка: назва зміної повина задовільняти певні критерії, а саме\n",
        "\n",
        "1) Ім'я змінної має починатися з літери або символу підкреслення\n",
        "\n",
        "2) Ім'я змінної не може починатися з числа\n",
        "\n",
        "3) Ім’я змінної може містити лише буквено-цифрові символи та підкреслення\n",
        "(A–z, 0–9 та _).\n",
        "\n",
        "4) Назви змінних чутливі до регістру (bus, Bus і BUS три різні змінні)\n",
        "\n",
        "**Наприклад**:\n",
        "\n",
        "Добре 😀</br>\n",
        "ver = \"Bob\"</br>\n",
        "Ver = \"Bob\"</br>\n",
        "VER = \"Bob\"</br>\n",
        "VerGood = \"Bob\"</br>\n",
        "Ver_Good = \"Bob\"</br>\n",
        "\n",
        "НЕ добре 🙁</br>\n",
        "ver bad = \"Bob\"</br>\n",
        "ve$r = \"Bob\"</br>\n",
        "12ver = \"Bob\"</br>\n"
      ]
    },
    {
      "cell_type": "code",
      "execution_count": null,
      "metadata": {
        "id": "wL1S_2eoRvAG"
      },
      "outputs": [],
      "source": [
        "ver_int = 7\n",
        "\n",
        "ver_float = 5.92\n",
        "\n",
        "ver_string = \"Any text\"\n",
        "\n",
        "ver_bool = True"
      ]
    },
    {
      "cell_type": "markdown",
      "metadata": {
        "id": "fiMNUAIKbzo3"
      },
      "source": [
        "Тип змінних можна перевірити за допомогою функції `type()`"
      ]
    },
    {
      "cell_type": "code",
      "execution_count": null,
      "metadata": {
        "colab": {
          "base_uri": "https://localhost:8080/"
        },
        "id": "vQ_XeZIHb-b8",
        "outputId": "254a622e-c555-4ee3-8614-609480f38ec7"
      },
      "outputs": [
        {
          "data": {
            "text/plain": [
              "int"
            ]
          },
          "execution_count": 4,
          "metadata": {},
          "output_type": "execute_result"
        }
      ],
      "source": [
        "type(ver_int)"
      ]
    },
    {
      "cell_type": "code",
      "execution_count": null,
      "metadata": {
        "colab": {
          "base_uri": "https://localhost:8080/"
        },
        "id": "vrjsoKpDcC_T",
        "outputId": "9f9962e5-396e-47b5-de27-7f4aac5a05f8"
      },
      "outputs": [
        {
          "data": {
            "text/plain": [
              "float"
            ]
          },
          "execution_count": 5,
          "metadata": {},
          "output_type": "execute_result"
        }
      ],
      "source": [
        "type(ver_float)"
      ]
    },
    {
      "cell_type": "code",
      "execution_count": null,
      "metadata": {
        "colab": {
          "base_uri": "https://localhost:8080/"
        },
        "id": "CU-qLnrNcFdN",
        "outputId": "153cb180-8cbd-4ff8-c0af-5758539eea89"
      },
      "outputs": [
        {
          "data": {
            "text/plain": [
              "str"
            ]
          },
          "execution_count": 6,
          "metadata": {},
          "output_type": "execute_result"
        }
      ],
      "source": [
        "type(ver_string)"
      ]
    },
    {
      "cell_type": "code",
      "execution_count": null,
      "metadata": {
        "colab": {
          "base_uri": "https://localhost:8080/"
        },
        "id": "DMnDtfGecKgz",
        "outputId": "630e12a0-3c99-46ee-e9b9-9723da3875b7"
      },
      "outputs": [
        {
          "data": {
            "text/plain": [
              "bool"
            ]
          },
          "execution_count": 7,
          "metadata": {},
          "output_type": "execute_result"
        }
      ],
      "source": [
        "type(ver_bool)"
      ]
    },
    {
      "cell_type": "markdown",
      "metadata": {
        "id": "0VCR8txwPxTU"
      },
      "source": [
        "Через те, що Pyhton це мова програмування з **динамічною типізацією** ми можемо змінювати типи даних у змінній."
      ]
    },
    {
      "cell_type": "code",
      "execution_count": null,
      "metadata": {
        "id": "GPyA-cqgP-NM"
      },
      "outputs": [],
      "source": [
        "test_ver = 10\n",
        "test_ver = False\n",
        "test_ver = \"Still works\""
      ]
    },
    {
      "cell_type": "markdown",
      "metadata": {
        "id": "IMXwQPnaWeV7"
      },
      "source": [
        "## Арифметичні операції 🏫👩‍🏫📚🔢📐"
      ]
    },
    {
      "cell_type": "markdown",
      "metadata": {
        "id": "OnCkPgQxYrWo"
      },
      "source": [
        "Пайтон має велику кількість арифметичних операцій, наприклад\n",
        "+, - ,* , / , **.\n",
        "\n",
        "\\+ додавання </br>\n",
        "\\- віднімання</br>\n",
        "\\* множення </br>\n",
        "/ ділення</br>\n",
        "** піднесення до степення</br>\n",
        "% остача від ділення</br>\n",
        "// ділення націло\n",
        "\n",
        "**Приклади**"
      ]
    },
    {
      "cell_type": "code",
      "execution_count": null,
      "metadata": {
        "colab": {
          "base_uri": "https://localhost:8080/"
        },
        "id": "t_T435_mLbKk",
        "outputId": "3b361e41-67eb-48d7-9870-2be23d51abb1"
      },
      "outputs": [
        {
          "name": "stdout",
          "output_type": "stream",
          "text": [
            "13.9\n"
          ]
        }
      ],
      "source": [
        "ver_1 = 8.9\n",
        "ver_2 = 5\n",
        "\n",
        "ver_sum = ver_1 + ver_2\n",
        "print(ver_sum)"
      ]
    },
    {
      "cell_type": "code",
      "execution_count": null,
      "metadata": {
        "colab": {
          "base_uri": "https://localhost:8080/"
        },
        "id": "0gDeQO9ap4fg",
        "outputId": "6bc2c835-32c1-4a28-d47e-1dccd48148f5"
      },
      "outputs": [
        {
          "name": "stdout",
          "output_type": "stream",
          "text": [
            "-1.0999999999999996\n"
          ]
        }
      ],
      "source": [
        "ver_sub = ver_1 - ver_2\n",
        "print(ver_sub)"
      ]
    },
    {
      "cell_type": "code",
      "execution_count": null,
      "metadata": {
        "colab": {
          "base_uri": "https://localhost:8080/"
        },
        "id": "Itx1QuBSp4dJ",
        "outputId": "70808f5c-5005-4ecc-a5b8-fd2f5a957f31"
      },
      "outputs": [
        {
          "name": "stdout",
          "output_type": "stream",
          "text": [
            "89.0\n"
          ]
        }
      ],
      "source": [
        "ver_mul = ver_1 * ver_2\n",
        "print(ver_mul)"
      ]
    },
    {
      "cell_type": "code",
      "execution_count": null,
      "metadata": {
        "colab": {
          "base_uri": "https://localhost:8080/"
        },
        "id": "eNFFn6Uop4aU",
        "outputId": "2c6701a7-49dd-4dda-dea3-5ef9afd9b36f"
      },
      "outputs": [
        {
          "name": "stdout",
          "output_type": "stream",
          "text": [
            "0.89\n"
          ]
        }
      ],
      "source": [
        "ver_div = ver_1 / ver_2\n",
        "print(ver_div)"
      ]
    },
    {
      "cell_type": "code",
      "execution_count": null,
      "metadata": {
        "colab": {
          "base_uri": "https://localhost:8080/"
        },
        "id": "bH316eKDp4Xd",
        "outputId": "1bafff9a-4716-44bd-ff0b-3ac6d305a5dc"
      },
      "outputs": [
        {
          "name": "stdout",
          "output_type": "stream",
          "text": [
            "3118171992.9966197\n"
          ]
        }
      ],
      "source": [
        "ver_exp = ver_1 ** ver_2\n",
        "print(ver_exp)"
      ]
    },
    {
      "cell_type": "code",
      "execution_count": null,
      "metadata": {
        "colab": {
          "base_uri": "https://localhost:8080/"
        },
        "id": "keIHKrszp4U6",
        "outputId": "37ff9f41-c924-498f-e6cc-997a89b5453c"
      },
      "outputs": [
        {
          "name": "stdout",
          "output_type": "stream",
          "text": [
            "3.9000000000000004\n"
          ]
        }
      ],
      "source": [
        "ver_per = ver_1 % ver_2\n",
        "print(ver_per)"
      ]
    },
    {
      "cell_type": "code",
      "execution_count": null,
      "metadata": {
        "colab": {
          "base_uri": "https://localhost:8080/"
        },
        "id": "6pryBXTOp4Q1",
        "outputId": "e9079bae-3719-40f3-86a9-5591c78bbe23"
      },
      "outputs": [
        {
          "name": "stdout",
          "output_type": "stream",
          "text": [
            "1.0\n"
          ]
        }
      ],
      "source": [
        "ver_floor = ver_1 // ver_2\n",
        "print(ver_floor)"
      ]
    },
    {
      "cell_type": "code",
      "execution_count": null,
      "metadata": {
        "colab": {
          "base_uri": "https://localhost:8080/"
        },
        "id": "Oz48Vq7yMQGl",
        "outputId": "ee1b7f67-544a-4561-e10e-9cd1f775b5bc"
      },
      "outputs": [
        {
          "name": "stdout",
          "output_type": "stream",
          "text": [
            "5.0\n"
          ]
        }
      ],
      "source": [
        "a = 3\n",
        "b = 4\n",
        "c = (a**2+b**2)**(1/2)\n",
        "print(c)"
      ]
    },
    {
      "cell_type": "markdown",
      "metadata": {
        "id": "PQ8udAE8K_oF"
      },
      "source": [
        "Якщо з цифрами все зрозуміло, то як оператори + або наприклад * працюють для типу str."
      ]
    },
    {
      "cell_type": "code",
      "execution_count": null,
      "metadata": {
        "colab": {
          "base_uri": "https://localhost:8080/"
        },
        "id": "ntUIRwa9L2JV",
        "outputId": "6aa36db5-02b5-4d27-e3c6-7ce44feceb56"
      },
      "outputs": [
        {
          "name": "stdout",
          "output_type": "stream",
          "text": [
            "Hello World\n"
          ]
        }
      ],
      "source": [
        "str_1 = \"Hello \"\n",
        "str_2 = \"World\"\n",
        "\n",
        "phraze = str_1 + str_2\n",
        "print(phraze)"
      ]
    },
    {
      "cell_type": "code",
      "execution_count": null,
      "metadata": {
        "colab": {
          "base_uri": "https://localhost:8080/"
        },
        "id": "_hVGjpiqMiVU",
        "outputId": "275c4957-4aeb-4443-c699-4e8131849d60"
      },
      "outputs": [
        {
          "name": "stdout",
          "output_type": "stream",
          "text": [
            "We love love love love love Python\n"
          ]
        }
      ],
      "source": [
        "phraze = \"We \"  + (\"love \" * 5) + \"Python\"\n",
        "print(phraze)"
      ]
    },
    {
      "cell_type": "markdown",
      "metadata": {
        "id": "j-_CxCyPNQIP"
      },
      "source": [
        "Тепер спробуємо змішати типи.😳"
      ]
    },
    {
      "cell_type": "code",
      "execution_count": null,
      "metadata": {
        "colab": {
          "base_uri": "https://localhost:8080/",
          "height": 201
        },
        "id": "JbmBa37TNUsi",
        "outputId": "46a65ee2-c5ff-4cba-fe0f-e0ac968a2ecd"
      },
      "outputs": [
        {
          "ename": "TypeError",
          "evalue": "ignored",
          "output_type": "error",
          "traceback": [
            "\u001b[0;31m---------------------------------------------------------------------------\u001b[0m",
            "\u001b[0;31mTypeError\u001b[0m                                 Traceback (most recent call last)",
            "\u001b[0;32m<ipython-input-26-6a66760a751e>\u001b[0m in \u001b[0;36m<cell line: 5>\u001b[0;34m()\u001b[0m\n\u001b[1;32m      3\u001b[0m \u001b[0mstr_ver\u001b[0m\u001b[0;34m=\u001b[0m \u001b[0;34m\"hi\"\u001b[0m\u001b[0;34m\u001b[0m\u001b[0;34m\u001b[0m\u001b[0m\n\u001b[1;32m      4\u001b[0m \u001b[0;34m\u001b[0m\u001b[0m\n\u001b[0;32m----> 5\u001b[0;31m \u001b[0msum\u001b[0m \u001b[0;34m=\u001b[0m \u001b[0mnum_ver\u001b[0m \u001b[0;34m+\u001b[0m \u001b[0mstr_ver\u001b[0m\u001b[0;34m\u001b[0m\u001b[0;34m\u001b[0m\u001b[0m\n\u001b[0m",
            "\u001b[0;31mTypeError\u001b[0m: unsupported operand type(s) for +: 'int' and 'str'"
          ]
        }
      ],
      "source": [
        "num_ver = 10\n",
        "\n",
        "str_ver= \"hi\"\n",
        "\n",
        "sum = num_ver + str_ver"
      ]
    },
    {
      "cell_type": "markdown",
      "metadata": {
        "id": "CQoEF6B3NvVS"
      },
      "source": [
        "Виникла помилка яка вказує на те що додавати str і int **НЕ**можливо.</br>\n",
        "\n",
        "\n",
        "\n",
        "\n",
        "\n"
      ]
    },
    {
      "cell_type": "markdown",
      "metadata": {
        "id": "Ubk_6iXvQwP9"
      },
      "source": [
        "## Змінна типів данних</br>\n"
      ]
    },
    {
      "cell_type": "markdown",
      "metadata": {
        "id": "zbsq6n09CC_b"
      },
      "source": [
        "Зачасту дані не є статичні вони переходять з одного стану в інший.</br>\n",
        "Часто нас не задовільняє поточний стан (тип) наших даних, тому є можливість його змінити.\n",
        "\n",
        "**Наприклад**:</br>\n",
        "`new_ver = int(old_ver)` - переконвертовує данні з одного типу на int </br>\n",
        "За аналогією маємо: </br>\n",
        "`new_ver = float(old_ver)`</br>\n",
        "`new_ver = str(old_ver)`</br>\n",
        "`new_ver = bool(old_ver)`</br>\n",
        "Розберемось детальніше з кожним з них."
      ]
    },
    {
      "cell_type": "code",
      "execution_count": null,
      "metadata": {
        "colab": {
          "base_uri": "https://localhost:8080/"
        },
        "id": "MJbw_Pj3n35X",
        "outputId": "4b42df05-dc06-4b90-dd67-33a3053e4afc"
      },
      "outputs": [
        {
          "name": "stdout",
          "output_type": "stream",
          "text": [
            "10.0\n"
          ]
        }
      ],
      "source": [
        "ver_num = 10\n",
        "ver_converted = float(ver_num)\n",
        "\n",
        "print(ver_converted)"
      ]
    },
    {
      "cell_type": "code",
      "execution_count": null,
      "metadata": {
        "colab": {
          "base_uri": "https://localhost:8080/"
        },
        "id": "9O_hfcFJSjJV",
        "outputId": "d08436c3-f087-400b-e552-b949e9811821"
      },
      "outputs": [
        {
          "name": "stdout",
          "output_type": "stream",
          "text": [
            "10\n"
          ]
        }
      ],
      "source": [
        "ver_num = 10\n",
        "ver_converted = str(ver_num)\n",
        "print(ver_converted)\n"
      ]
    },
    {
      "cell_type": "code",
      "execution_count": null,
      "metadata": {
        "colab": {
          "base_uri": "https://localhost:8080/"
        },
        "id": "73baTTXzTioL",
        "outputId": "d4ef0735-cbbd-49e2-f439-9c598dd39580"
      },
      "outputs": [
        {
          "data": {
            "text/plain": [
              "int"
            ]
          },
          "execution_count": 31,
          "metadata": {},
          "output_type": "execute_result"
        }
      ],
      "source": [
        "ver_str = \"10\"\n",
        "ver_converted = int(ver_str)\n",
        "\n",
        "type(ver_converted)"
      ]
    },
    {
      "cell_type": "markdown",
      "metadata": {
        "id": "iUHlOqdfTxWJ"
      },
      "source": [
        "Але не кожен об'єкт типу str можна переконвертувати в тип int.</br>\n",
        "**Наприклад: **</br>\n",
        "\"Hello\" неможливо перевести в тип `int`"
      ]
    },
    {
      "cell_type": "code",
      "execution_count": null,
      "metadata": {
        "colab": {
          "base_uri": "https://localhost:8080/",
          "height": 183
        },
        "id": "SE7iJQLHUM6s",
        "outputId": "9932a07a-6b8f-457f-a9a8-316b13b99bd1"
      },
      "outputs": [
        {
          "ename": "ValueError",
          "evalue": "ignored",
          "output_type": "error",
          "traceback": [
            "\u001b[0;31m---------------------------------------------------------------------------\u001b[0m",
            "\u001b[0;31mValueError\u001b[0m                                Traceback (most recent call last)",
            "\u001b[0;32m<ipython-input-32-9862a75d84c5>\u001b[0m in \u001b[0;36m<cell line: 2>\u001b[0;34m()\u001b[0m\n\u001b[1;32m      1\u001b[0m \u001b[0mver_str\u001b[0m \u001b[0;34m=\u001b[0m \u001b[0;34m\"Hello\"\u001b[0m\u001b[0;34m\u001b[0m\u001b[0;34m\u001b[0m\u001b[0m\n\u001b[0;32m----> 2\u001b[0;31m \u001b[0mver_str\u001b[0m \u001b[0;34m=\u001b[0m \u001b[0mint\u001b[0m\u001b[0;34m(\u001b[0m\u001b[0mver_str\u001b[0m\u001b[0;34m)\u001b[0m\u001b[0;34m\u001b[0m\u001b[0;34m\u001b[0m\u001b[0m\n\u001b[0m",
            "\u001b[0;31mValueError\u001b[0m: invalid literal for int() with base 10: 'Hello'"
          ]
        }
      ],
      "source": [
        "ver_str = \"Hello\"\n",
        "ver_str = int(ver_str)\n"
      ]
    },
    {
      "cell_type": "markdown",
      "metadata": {
        "id": "mE8CWa2DUUNt"
      },
      "source": [
        "Досить цікавим та корисним є bool тип.😉</br>\n",
        "Працює за таким принципом, якщо є дані, то повертає значення `True` в іншому випадку `False`.\n"
      ]
    },
    {
      "cell_type": "code",
      "execution_count": null,
      "metadata": {
        "colab": {
          "base_uri": "https://localhost:8080/"
        },
        "id": "r6XInR5eTsEc",
        "outputId": "842803ec-dc28-4442-f71e-09a449a2d5aa"
      },
      "outputs": [
        {
          "name": "stdout",
          "output_type": "stream",
          "text": [
            "False\n",
            "True\n",
            "False\n",
            "True\n"
          ]
        }
      ],
      "source": [
        "ver_zero = 0\n",
        "ver_num = 10\n",
        "ver_emp = \"\"\n",
        "ver_str = \"Hello\"\n",
        "print(bool(ver_zero))\n",
        "print(bool(ver_num))\n",
        "print(bool(ver_emp))\n",
        "print(bool(ver_str))\n"
      ]
    },
    {
      "cell_type": "code",
      "execution_count": null,
      "metadata": {},
      "outputs": [],
      "source": [
        "\n",
        "num_ver_1 = 10\n",
        "num_ver_2 = 785\n",
        "print(num_ver_1 == num_ver_2)"
      ]
    },
    {
      "cell_type": "code",
      "execution_count": null,
      "metadata": {},
      "outputs": [],
      "source": [
        "print(num_ver_1 != num_ver_2)"
      ]
    },
    {
      "cell_type": "code",
      "execution_count": null,
      "metadata": {},
      "outputs": [],
      "source": [
        "num_ver_1 = 10\n",
        "num_ver_2 = 10\n",
        "\n",
        "print(num_ver_1 == num_ver_2)"
      ]
    },
    {
      "cell_type": "code",
      "execution_count": null,
      "metadata": {},
      "outputs": [],
      "source": [
        "\n",
        "if 10 > 7:\n",
        "    print(\"10 bigger, than 7\")"
      ]
    },
    {
      "cell_type": "code",
      "execution_count": null,
      "metadata": {},
      "outputs": [],
      "source": [
        "\n",
        "if 10 < 7:\n",
        "    print(\"7 bigger, than 10\")"
      ]
    },
    {
      "cell_type": "code",
      "execution_count": null,
      "metadata": {},
      "outputs": [],
      "source": [
        "\n",
        "if 10 < 7:\n",
        "    print(\"7 bigger, than 10\")\n",
        "else:\n",
        "    print(\"Something wrong\")"
      ]
    },
    {
      "cell_type": "code",
      "execution_count": null,
      "metadata": {},
      "outputs": [],
      "source": [
        "\n",
        "if 7 == 8:\n",
        "    print(\"7 = 8\")\n",
        "elif 7 == 9:\n",
        "    print(\"7 = 9\")\n",
        "else:\n",
        "    print(\"This else block\")"
      ]
    },
    {
      "cell_type": "code",
      "execution_count": null,
      "metadata": {},
      "outputs": [],
      "source": [
        "lst = ['Math', 'Biology', 'Chemistry']\n",
        "\n",
        "for subject in lst:\n",
        "  print(subject)"
      ]
    },
    {
      "cell_type": "code",
      "execution_count": 3,
      "metadata": {},
      "outputs": [
        {
          "name": "stdout",
          "output_type": "stream",
          "text": [
            "A\n",
            "P\n",
            "P\n",
            "S\n",
            " \n",
            "U\n",
            "C\n",
            "U\n",
            " \n",
            "<\n",
            "3\n"
          ]
        }
      ],
      "source": [
        "for ch in 'APPS UCU <3':\n",
        "  print(ch)"
      ]
    },
    {
      "cell_type": "markdown",
      "metadata": {},
      "source": [
        "### Задача\n",
        "Санта сьогодні сумний, і, щоб вилікувати свій смуток, він вирішив програти свої проблеми в кості. Служитель казино кидає величезний 1000-гранний кубик із числами від 1 до 1000; якщо число, яке з’являється зверху, містить лише непарні цифри, виграє гравець, інакше виграє будинок. Санта природно щасливіший, коли виграє в азартних іграх, і він стає щасливим тоді і тільки тоді, коли число n, яке випало, є для нього виграшним числом. Враховуючи n, Санта буде щасливий?\n",
        "\n",
        "Введення:\n",
        "\n",
        "Перший рядок вводу міститиме n(1≤n≤1000), число, яке кинув Санта.\n",
        "\n",
        "Вихід:\n",
        "\n",
        "Виведіть \"HAPPY\", якщо Дід Мороз стане щасливим, і \"SAD\", якщо Санта залишиться сумним."
      ]
    }
  ],
  "metadata": {
    "colab": {
      "provenance": []
    },
    "kernelspec": {
      "display_name": "Python 3",
      "name": "python3"
    },
    "language_info": {
      "codemirror_mode": {
        "name": "ipython",
        "version": 3
      },
      "file_extension": ".py",
      "mimetype": "text/x-python",
      "name": "python",
      "nbconvert_exporter": "python",
      "pygments_lexer": "ipython3",
      "version": "3.11.6"
    }
  },
  "nbformat": 4,
  "nbformat_minor": 0
}
